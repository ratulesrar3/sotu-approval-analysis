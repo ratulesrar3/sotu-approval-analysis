{
 "cells": [
  {
   "cell_type": "markdown",
   "metadata": {},
   "source": [
    "### Approval Classification\n",
    "\n",
    "I apply a machine learning approach to classify presidential approval using sentiment scores, party affiliation, length of the speech and number of words in a speech. Using sentiment scores alone leads to some decent models with accuracy better than 50%, but the predictive value of sentiment goes away when other features are added. "
   ]
  },
  {
   "cell_type": "code",
   "execution_count": 1,
   "metadata": {},
   "outputs": [
    {
     "name": "stderr",
     "output_type": "stream",
     "text": [
      "/Users/ratulesrar/anaconda3/lib/python3.5/site-packages/sklearn/cross_validation.py:41: DeprecationWarning: This module was deprecated in version 0.18 in favor of the model_selection module into which all the refactored classes and functions are moved. Also note that the interface of the new CV iterators are different from that of this module. This module will be removed in 0.20.\n",
      "  \"This module will be removed in 0.20.\", DeprecationWarning)\n",
      "/Users/ratulesrar/anaconda3/lib/python3.5/site-packages/sklearn/grid_search.py:42: DeprecationWarning: This module was deprecated in version 0.18 in favor of the model_selection module into which all the refactored classes and functions are moved. This module will be removed in 0.20.\n",
      "  DeprecationWarning)\n"
     ]
    }
   ],
   "source": [
    "import warnings\n",
    "warnings.simplefilter('ignore')\n",
    "warnings.filterwarnings('ignore', category=DeprecationWarning)\n",
    "\n",
    "import numpy as np\n",
    "import pandas as pd\n",
    "import scipy.stats as stats\n",
    "import statsmodels.formula.api as smf\n",
    "import matplotlib.pyplot as plt\n",
    "import seaborn as sns\n",
    "\n",
    "%matplotlib inline\n",
    "plt.rcParams[\"figure.figsize\"] = (15,10)\n",
    "plt.rcParams[\"xtick.labelsize\"] = 16\n",
    "plt.rcParams[\"ytick.labelsize\"] = 16\n",
    "plt.rcParams[\"axes.labelsize\"] = 20\n",
    "plt.rcParams['legend.fontsize'] = 20\n",
    "\n",
    "from sklearn.model_selection import train_test_split\n",
    "from sklearn.linear_model import LogisticRegression\n",
    "from sklearn.ensemble import RandomForestClassifier, ExtraTreesClassifier, GradientBoostingClassifier, AdaBoostClassifier\n",
    "from sklearn.metrics import accuracy_score, roc_auc_score, auc, roc_curve, confusion_matrix\n",
    "from sklearn.grid_search import ParameterGrid\n",
    "\n",
    "% run scripts/evaluate.py"
   ]
  },
  {
   "cell_type": "code",
   "execution_count": 2,
   "metadata": {},
   "outputs": [],
   "source": [
    "# import data\n",
    "df = pd.read_pickle('data/clean_speech_approvals.pkl')\n",
    "df.set_index('president', inplace=True)\n",
    "\n",
    "feat = ['approval', 'compound', 'positive', 'negative', 'neutral', 'party', \n",
    "        'approve_mean', 'approve_median', 'approve_min', 'approve_max', 'approve_std',\n",
    "        'disapprove_mean', 'disapprove_median', 'disapprove_min', 'disapprove_max',\n",
    "        'disapprove_std', 'num_words', 'num_sentences']\n",
    "\n",
    "sentiment = ['approval', 'compound', 'num_words', 'num_sentences']"
   ]
  },
  {
   "cell_type": "code",
   "execution_count": 3,
   "metadata": {},
   "outputs": [],
   "source": [
    "def binary_approval(approve):\n",
    "    if approve > 50:\n",
    "        return 1\n",
    "    else:\n",
    "        return 0\n",
    "\n",
    "def to_binary(df, col, val='t'):\n",
    "    '''\n",
    "    Converts column to binary based on value\n",
    "    '''\n",
    "    df[col] = df[col].apply(lambda x: 1 if x == val else 0)"
   ]
  },
  {
   "cell_type": "code",
   "execution_count": 4,
   "metadata": {},
   "outputs": [],
   "source": [
    "to_binary(df, 'party', 'D')\n",
    "\n",
    "df['approval'] = df['approve_mean'].apply(binary_approval)"
   ]
  },
  {
   "cell_type": "code",
   "execution_count": 5,
   "metadata": {},
   "outputs": [],
   "source": [
    "# create X, y vectors\n",
    "X = df.filter(sentiment)\n",
    "X = X.drop('approval', axis=1)\n",
    "y = df['approval'].to_frame()\n",
    "\n",
    "# train test split\n",
    "X_train, X_test, y_train, y_test = train_test_split(X, y, test_size=0.3, random_state=37)\n",
    "\n",
    "# validation split\n",
    "X_test, X_validation, y_test, y_validation = train_test_split(X_test, y_test, test_size=0.5, random_state=3)\n",
    "\n",
    "# set model parameters\n",
    "params = {'penalty': ['l1','l2'], 'C': [0.00001,0.0001,0.001,0.01,0.1,1,10]}"
   ]
  },
  {
   "cell_type": "code",
   "execution_count": 6,
   "metadata": {},
   "outputs": [],
   "source": [
    "def get_feature_importance(clf, model_name):\n",
    "    clfs = {'RF':'feature_importances',\n",
    "            'LR': 'coef',\n",
    "            'SVM': 'coef',\n",
    "            'DT': 'feature_importances',\n",
    "            'KNN': None,\n",
    "            'AB': 'feature_importances',\n",
    "            'GB': None,\n",
    "            'linear.SVC': 'coef',\n",
    "            'ET': 'feature_importances'\n",
    "            }\n",
    "\n",
    "    if clfs[model_name] == 'feature_importances':\n",
    "        return  list(clf.feature_importances_)\n",
    "    elif clfs[model_name] == 'coef':\n",
    "        return  list(clf.coef_.tolist())\n",
    "    else:\n",
    "        return None"
   ]
  },
  {
   "cell_type": "code",
   "execution_count": 7,
   "metadata": {},
   "outputs": [],
   "source": [
    "def clf_loop(X_train, X_test, y_train, y_test, params):\n",
    "    '''\n",
    "    Function to loop through hyperparameters in a model\n",
    "    '''\n",
    "    results_df = pd.DataFrame(columns=('clf','parameters','auc-roc','accuracy'))\n",
    "    for p in ParameterGrid(params):\n",
    "        try:\n",
    "            clf = LogisticRegression()\n",
    "            clf.set_params(**p)\n",
    "            clf.fit(X_train, y_train)\n",
    "            y_pred = clf.predict(X_test)\n",
    "            y_pred_probs = list(clf.predict_proba(X_test)[:,1])\n",
    "            results_df.loc[len(results_df)] = [clf,p,roc_auc_score(y_test,y_pred_probs),\n",
    "                                               accuracy_score(y_test,y_pred)]\n",
    "        except IndexError:\n",
    "            print('IndexError')\n",
    "            continue\n",
    "    return results_df"
   ]
  },
  {
   "cell_type": "code",
   "execution_count": 8,
   "metadata": {},
   "outputs": [
    {
     "data": {
      "text/plain": [
       "array([0.65943291, 0.67488872, 0.69951719, 0.58052569, 0.66539869,\n",
       "       0.66276306, 0.61771343, 0.68853553, 0.62701182, 0.5910649 ,\n",
       "       0.59759631, 0.63902303, 0.66014083])"
      ]
     },
     "execution_count": 8,
     "metadata": {},
     "output_type": "execute_result"
    }
   ],
   "source": [
    "# run methods loop\n",
    "df_validation = clf_loop(X_train, X_test, y_train, y_test, params)\n",
    "\n",
    "# obtain params for model with max auc-roc\n",
    "best_model_params = dict(df_validation.sort_values('auc-roc', ascending=False)[:1]['parameters'])\n",
    "key = list(best_model_params.keys())[0]\n",
    "\n",
    "# evaluate using test data\n",
    "# lr = LogisticRegression(C=1, class_weight=None, dual=False, fit_intercept=True,\n",
    "#           intercept_scaling=1, max_iter=100, multi_class='ovr', n_jobs=1,\n",
    "#           penalty='l2', random_state=None, solver='liblinear', tol=0.0001,\n",
    "#           verbose=0, warm_start=False)\n",
    "lr = LogisticRegression(C=0.01, class_weight=None, dual=False, fit_intercept=True,\n",
    "          intercept_scaling=1, max_iter=100, multi_class='ovr', n_jobs=-1,\n",
    "          penalty='l2', random_state=None, solver='liblinear', tol=0.0001,\n",
    "          verbose=0, warm_start=False)\n",
    "# lr.set_params(**best_model_params[key])\n",
    "lr.fit(X_validation, y_validation)\n",
    "\n",
    "# get predicted scores for test set\n",
    "y_preds = lr.predict_proba(X_test)[:, 1]\n",
    "y_preds"
   ]
  },
  {
   "cell_type": "code",
   "execution_count": 9,
   "metadata": {},
   "outputs": [
    {
     "data": {
      "text/plain": [
       "[[-3.5138671091451976e-05, 0.00021505530105230827, -0.002863059985927265]]"
      ]
     },
     "execution_count": 9,
     "metadata": {},
     "output_type": "execute_result"
    }
   ],
   "source": [
    "# print feature coefficients\n",
    "get_feature_importance(lr, 'LR')"
   ]
  },
  {
   "cell_type": "code",
   "execution_count": 10,
   "metadata": {},
   "outputs": [
    {
     "data": {
      "text/plain": [
       "Index(['compound', 'num_words', 'num_sentences'], dtype='object')"
      ]
     },
     "execution_count": 10,
     "metadata": {},
     "output_type": "execute_result"
    }
   ],
   "source": [
    "X_validation.columns"
   ]
  },
  {
   "cell_type": "code",
   "execution_count": 11,
   "metadata": {},
   "outputs": [
    {
     "data": {
      "text/html": [
       "<div>\n",
       "<style scoped>\n",
       "    .dataframe tbody tr th:only-of-type {\n",
       "        vertical-align: middle;\n",
       "    }\n",
       "\n",
       "    .dataframe tbody tr th {\n",
       "        vertical-align: top;\n",
       "    }\n",
       "\n",
       "    .dataframe thead th {\n",
       "        text-align: right;\n",
       "    }\n",
       "</style>\n",
       "<table border=\"1\" class=\"dataframe\">\n",
       "  <thead>\n",
       "    <tr style=\"text-align: right;\">\n",
       "      <th></th>\n",
       "      <th>clf</th>\n",
       "      <th>parameters</th>\n",
       "      <th>auc-roc</th>\n",
       "      <th>accuracy</th>\n",
       "    </tr>\n",
       "  </thead>\n",
       "  <tbody>\n",
       "    <tr>\n",
       "      <th>0</th>\n",
       "      <td>LogisticRegression(C=1e-05, class_weight=None,...</td>\n",
       "      <td>{'penalty': 'l1', 'C': 1e-05}</td>\n",
       "      <td>0.500000</td>\n",
       "      <td>0.461538</td>\n",
       "    </tr>\n",
       "    <tr>\n",
       "      <th>1</th>\n",
       "      <td>LogisticRegression(C=1e-05, class_weight=None,...</td>\n",
       "      <td>{'penalty': 'l2', 'C': 1e-05}</td>\n",
       "      <td>0.500000</td>\n",
       "      <td>0.538462</td>\n",
       "    </tr>\n",
       "    <tr>\n",
       "      <th>2</th>\n",
       "      <td>LogisticRegression(C=0.0001, class_weight=None...</td>\n",
       "      <td>{'penalty': 'l1', 'C': 0.0001}</td>\n",
       "      <td>0.333333</td>\n",
       "      <td>0.538462</td>\n",
       "    </tr>\n",
       "    <tr>\n",
       "      <th>3</th>\n",
       "      <td>LogisticRegression(C=0.0001, class_weight=None...</td>\n",
       "      <td>{'penalty': 'l2', 'C': 0.0001}</td>\n",
       "      <td>0.642857</td>\n",
       "      <td>0.615385</td>\n",
       "    </tr>\n",
       "    <tr>\n",
       "      <th>4</th>\n",
       "      <td>LogisticRegression(C=0.001, class_weight=None,...</td>\n",
       "      <td>{'penalty': 'l1', 'C': 0.001}</td>\n",
       "      <td>0.333333</td>\n",
       "      <td>0.538462</td>\n",
       "    </tr>\n",
       "    <tr>\n",
       "      <th>5</th>\n",
       "      <td>LogisticRegression(C=0.001, class_weight=None,...</td>\n",
       "      <td>{'penalty': 'l2', 'C': 0.001}</td>\n",
       "      <td>0.642857</td>\n",
       "      <td>0.615385</td>\n",
       "    </tr>\n",
       "    <tr>\n",
       "      <th>6</th>\n",
       "      <td>LogisticRegression(C=0.01, class_weight=None, ...</td>\n",
       "      <td>{'penalty': 'l1', 'C': 0.01}</td>\n",
       "      <td>0.452381</td>\n",
       "      <td>0.538462</td>\n",
       "    </tr>\n",
       "    <tr>\n",
       "      <th>7</th>\n",
       "      <td>LogisticRegression(C=0.01, class_weight=None, ...</td>\n",
       "      <td>{'penalty': 'l2', 'C': 0.01}</td>\n",
       "      <td>0.690476</td>\n",
       "      <td>0.615385</td>\n",
       "    </tr>\n",
       "    <tr>\n",
       "      <th>8</th>\n",
       "      <td>LogisticRegression(C=0.1, class_weight=None, d...</td>\n",
       "      <td>{'penalty': 'l1', 'C': 0.1}</td>\n",
       "      <td>0.642857</td>\n",
       "      <td>0.615385</td>\n",
       "    </tr>\n",
       "    <tr>\n",
       "      <th>9</th>\n",
       "      <td>LogisticRegression(C=0.1, class_weight=None, d...</td>\n",
       "      <td>{'penalty': 'l2', 'C': 0.1}</td>\n",
       "      <td>0.690476</td>\n",
       "      <td>0.538462</td>\n",
       "    </tr>\n",
       "    <tr>\n",
       "      <th>10</th>\n",
       "      <td>LogisticRegression(C=1, class_weight=None, dua...</td>\n",
       "      <td>{'penalty': 'l1', 'C': 1}</td>\n",
       "      <td>0.809524</td>\n",
       "      <td>0.538462</td>\n",
       "    </tr>\n",
       "    <tr>\n",
       "      <th>11</th>\n",
       "      <td>LogisticRegression(C=1, class_weight=None, dua...</td>\n",
       "      <td>{'penalty': 'l2', 'C': 1}</td>\n",
       "      <td>0.880952</td>\n",
       "      <td>0.538462</td>\n",
       "    </tr>\n",
       "    <tr>\n",
       "      <th>12</th>\n",
       "      <td>LogisticRegression(C=10, class_weight=None, du...</td>\n",
       "      <td>{'penalty': 'l1', 'C': 10}</td>\n",
       "      <td>0.714286</td>\n",
       "      <td>0.538462</td>\n",
       "    </tr>\n",
       "    <tr>\n",
       "      <th>13</th>\n",
       "      <td>LogisticRegression(C=10, class_weight=None, du...</td>\n",
       "      <td>{'penalty': 'l2', 'C': 10}</td>\n",
       "      <td>0.785714</td>\n",
       "      <td>0.538462</td>\n",
       "    </tr>\n",
       "  </tbody>\n",
       "</table>\n",
       "</div>"
      ],
      "text/plain": [
       "                                                  clf  \\\n",
       "0   LogisticRegression(C=1e-05, class_weight=None,...   \n",
       "1   LogisticRegression(C=1e-05, class_weight=None,...   \n",
       "2   LogisticRegression(C=0.0001, class_weight=None...   \n",
       "3   LogisticRegression(C=0.0001, class_weight=None...   \n",
       "4   LogisticRegression(C=0.001, class_weight=None,...   \n",
       "5   LogisticRegression(C=0.001, class_weight=None,...   \n",
       "6   LogisticRegression(C=0.01, class_weight=None, ...   \n",
       "7   LogisticRegression(C=0.01, class_weight=None, ...   \n",
       "8   LogisticRegression(C=0.1, class_weight=None, d...   \n",
       "9   LogisticRegression(C=0.1, class_weight=None, d...   \n",
       "10  LogisticRegression(C=1, class_weight=None, dua...   \n",
       "11  LogisticRegression(C=1, class_weight=None, dua...   \n",
       "12  LogisticRegression(C=10, class_weight=None, du...   \n",
       "13  LogisticRegression(C=10, class_weight=None, du...   \n",
       "\n",
       "                        parameters   auc-roc  accuracy  \n",
       "0    {'penalty': 'l1', 'C': 1e-05}  0.500000  0.461538  \n",
       "1    {'penalty': 'l2', 'C': 1e-05}  0.500000  0.538462  \n",
       "2   {'penalty': 'l1', 'C': 0.0001}  0.333333  0.538462  \n",
       "3   {'penalty': 'l2', 'C': 0.0001}  0.642857  0.615385  \n",
       "4    {'penalty': 'l1', 'C': 0.001}  0.333333  0.538462  \n",
       "5    {'penalty': 'l2', 'C': 0.001}  0.642857  0.615385  \n",
       "6     {'penalty': 'l1', 'C': 0.01}  0.452381  0.538462  \n",
       "7     {'penalty': 'l2', 'C': 0.01}  0.690476  0.615385  \n",
       "8      {'penalty': 'l1', 'C': 0.1}  0.642857  0.615385  \n",
       "9      {'penalty': 'l2', 'C': 0.1}  0.690476  0.538462  \n",
       "10       {'penalty': 'l1', 'C': 1}  0.809524  0.538462  \n",
       "11       {'penalty': 'l2', 'C': 1}  0.880952  0.538462  \n",
       "12      {'penalty': 'l1', 'C': 10}  0.714286  0.538462  \n",
       "13      {'penalty': 'l2', 'C': 10}  0.785714  0.538462  "
      ]
     },
     "execution_count": 11,
     "metadata": {},
     "output_type": "execute_result"
    }
   ],
   "source": [
    "df_validation"
   ]
  },
  {
   "cell_type": "markdown",
   "metadata": {},
   "source": [
    "The model with the best area under the curve optimizes pretty well to trade off between the false positive rate and the true positive rate. That being said, the top model based on AUC only has an accuracy of 54%. This improves when including party affiliation but strictly based on sentiment, this model does not perform very well. "
   ]
  },
  {
   "cell_type": "code",
   "execution_count": 12,
   "metadata": {},
   "outputs": [
    {
     "data": {
      "image/png": "[encoded data removed]",
      "text/plain": [
       "<matplotlib.figure.Figure at 0x104920a58>"
      ]
     },
     "metadata": {},
     "output_type": "display_data"
    }
   ],
   "source": [
    "# calculate the fpr and tpr for all thresholds of the classification\n",
    "fpr, tpr, threshold = roc_curve(y_validation, y_preds)\n",
    "roc_auc = auc(fpr, tpr)\n",
    "\n",
    "plt.title('Receiver Operating Characteristic')\n",
    "plt.plot(fpr, tpr, 'b', label = 'AUC = %0.2f' % roc_auc)\n",
    "plt.legend(loc = 'lower right')\n",
    "plt.plot([0, 1], [0, 1],'r--')\n",
    "plt.xlim([0, 1])\n",
    "plt.ylim([0, 1])\n",
    "plt.ylabel('True Positive Rate')\n",
    "plt.xlabel('False Positive Rate')\n",
    "plt.savefig('data/auc.png')"
   ]
  },
  {
   "cell_type": "code",
   "execution_count": 13,
   "metadata": {},
   "outputs": [
    {
     "name": "stdout",
     "output_type": "stream",
     "text": [
      "Confusion matrix, without normalization\n",
      "[[1 3]\n",
      " [2 7]]\n"
     ]
    },
    {
     "data": {
      "image/png": "[encoded data removed]",
      "text/plain": [
       "<matplotlib.figure.Figure at 0x10feebb38>"
      ]
     },
     "metadata": {},
     "output_type": "display_data"
    }
   ],
   "source": [
    "# Compute confusion matrix\n",
    "cnf_matrix = confusion_matrix(y_validation, [1 if pred > 0.6 else 0 for pred in y_preds])\n",
    "np.set_printoptions(precision=2)\n",
    "\n",
    "# Plot non-normalized confusion matrix\n",
    "pl.figure()\n",
    "plot_confusion_matrix(cnf_matrix, classes=['Approve', 'Disapprove'],\n",
    "                      title='Confusion matrix')\n",
    "plt.savefig('data/matrix.png')"
   ]
  },
  {
   "cell_type": "code",
   "execution_count": 14,
   "metadata": {},
   "outputs": [
    {
     "data": {
      "text/plain": [
       "0.3333333333333333"
      ]
     },
     "execution_count": 14,
     "metadata": {},
     "output_type": "execute_result"
    }
   ],
   "source": [
    "get_precision(cnf_matrix)"
   ]
  },
  {
   "cell_type": "code",
   "execution_count": 15,
   "metadata": {},
   "outputs": [
    {
     "data": {
      "text/plain": [
       "0.25"
      ]
     },
     "execution_count": 15,
     "metadata": {},
     "output_type": "execute_result"
    }
   ],
   "source": [
    "get_recall(cnf_matrix)"
   ]
  },
  {
   "cell_type": "code",
   "execution_count": 16,
   "metadata": {},
   "outputs": [
    {
     "data": {
      "text/plain": [
       "0.6153846153846154"
      ]
     },
     "execution_count": 16,
     "metadata": {},
     "output_type": "execute_result"
    }
   ],
   "source": [
    "get_accuracy(cnf_matrix)"
   ]
  }
 ],
 "metadata": {
  "kernelspec": {
   "display_name": "Python [default]",
   "language": "python",
   "name": "python3"
  },
  "language_info": {
   "codemirror_mode": {
    "name": "ipython",
    "version": 3
   },
   "file_extension": ".py",
   "mimetype": "text/x-python",
   "name": "python",
   "nbconvert_exporter": "python",
   "pygments_lexer": "ipython3",
   "version": "3.5.2"
  }
 },
 "nbformat": 4,
 "nbformat_minor": 2
}
