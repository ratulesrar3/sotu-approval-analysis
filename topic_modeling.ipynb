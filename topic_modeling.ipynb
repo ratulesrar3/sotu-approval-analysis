{
 "cells": [
  {
   "cell_type": "code",
   "execution_count": 1,
   "metadata": {},
   "outputs": [],
   "source": [
    "import warnings\n",
    "warnings.simplefilter('ignore')\n",
    "warnings.filterwarnings('ignore', category=DeprecationWarning)\n",
    "\n",
    "import numpy as np\n",
    "import pandas as pd\n",
    "import scipy.stats as stats\n",
    "import statsmodels.formula.api as smf\n",
    "import matplotlib.pyplot as plt\n",
    "import seaborn as sns\n",
    "\n",
    "from random import shuffle\n",
    "from sklearn.feature_extraction.text import TfidfVectorizer, CountVectorizer\n",
    "from sklearn.decomposition import NMF, LatentDirichletAllocation"
   ]
  },
  {
   "cell_type": "code",
   "execution_count": 2,
   "metadata": {},
   "outputs": [],
   "source": [
    "# import data\n",
    "df = pd.read_pickle('data/clean_speech_approvals.pkl')\n",
    "df.set_index('president', inplace=True)"
   ]
  },
  {
   "cell_type": "code",
   "execution_count": 3,
   "metadata": {},
   "outputs": [],
   "source": [
    "sotu_corpus = list(df.speech)"
   ]
  },
  {
   "cell_type": "code",
   "execution_count": 4,
   "metadata": {},
   "outputs": [],
   "source": [
    "no_features = 1000\n",
    "\n",
    "# NMF is able to use tf-idf\n",
    "tfidf_vectorizer = TfidfVectorizer(max_df=0.95, min_df=2, max_features=no_features, stop_words='english')\n",
    "tfidf = tfidf_vectorizer.fit_transform(sotu_corpus)\n",
    "tfidf_feature_names = tfidf_vectorizer.get_feature_names()"
   ]
  },
  {
   "cell_type": "code",
   "execution_count": 5,
   "metadata": {},
   "outputs": [],
   "source": [
    "# LDA can only use raw term counts for LDA because it is a probabilistic graphical model\n",
    "tf_vectorizer = CountVectorizer(max_df=0.95, min_df=2, max_features=no_features, stop_words='english')\n",
    "tf = tf_vectorizer.fit_transform(sotu_corpus)\n",
    "tf_feature_names = tf_vectorizer.get_feature_names()"
   ]
  },
  {
   "cell_type": "code",
   "execution_count": 6,
   "metadata": {},
   "outputs": [],
   "source": [
    "no_topics = 20\n",
    "\n",
    "# Run NMF\n",
    "nmf = NMF(n_components=no_topics, random_state=1, alpha=.1, l1_ratio=.5, init='nndsvd').fit(tfidf)"
   ]
  },
  {
   "cell_type": "code",
   "execution_count": 7,
   "metadata": {},
   "outputs": [],
   "source": [
    "# Run LDA\n",
    "lda = LatentDirichletAllocation(n_components=no_topics, \n",
    "                                max_iter=5, learning_method='online', learning_offset=50.,\n",
    "                                random_state=0).fit(tf)"
   ]
  },
  {
   "cell_type": "code",
   "execution_count": 8,
   "metadata": {},
   "outputs": [],
   "source": [
    "def display_topics(model, feature_names, no_top_words):\n",
    "    for topic_idx, topic in enumerate(model.components_):\n",
    "        print('Topic {}:'.format(topic_idx))\n",
    "        print(' '.join([feature_names[i] for i in topic.argsort()[:-no_top_words - 1:-1]]))"
   ]
  },
  {
   "cell_type": "code",
   "execution_count": 9,
   "metadata": {},
   "outputs": [
    {
     "name": "stdout",
     "output_type": "stream",
     "text": [
      "Topic 0:\n",
      "federal shall defense programs military strength public billion problems economy\n",
      "Topic 1:\n",
      "ve tonight americans let jobs know just children care ll\n",
      "Topic 2:\n",
      "production fighting shall victory men enemy 000 forces pacific know\n",
      "Topic 3:\n",
      "iraq terrorists iraqi al qaida terror terrorist afghanistan weapons enemy\n",
      "Topic 4:\n",
      "soviet communist military aggression defense atomic union strength europe korea\n",
      "Topic 5:\n",
      "vietnam tonight south recommend billion try crime conflict think propose\n",
      "Topic 6:\n",
      "tax programs federal billion spending inflation percent ve rates regulations\n",
      "Topic 7:\n",
      "youth european export experience expenditures expected expect expansion expanding expanded\n",
      "Topic 8:\n",
      "administration 1978 1977 energy 1979 regulatory reform 1980 legislation programs\n",
      "Topic 9:\n",
      "think commitments believe tonight want reduced treaty poverty going administration\n",
      "Topic 10:\n",
      "youth european export experience expenditures expected expect expansion expanding expanded\n",
      "Topic 11:\n",
      "youth european export experience expenditures expected expect expansion expanding expanded\n",
      "Topic 12:\n",
      "oil energy union coal strategic 1980 gas conservation nuclear house\n",
      "Topic 13:\n",
      "labor 1946 management veterans 1947 collective commission housing atomic recommendations\n",
      "Topic 14:\n",
      "1947 dollars expenditures fiscal 1945 1946 estimated appropriations recommended expected\n",
      "Topic 15:\n",
      "youth european export experience expenditures expected expect expansion expanding expanded\n",
      "Topic 16:\n",
      "let federal revolution budget agreement family goals chance democratic central\n",
      "Topic 17:\n",
      "youth european export experience expenditures expected expect expansion expanding expanded\n",
      "Topic 18:\n",
      "foundation inflation nuclear ve influence rights arms build americans control\n",
      "Topic 19:\n",
      "youth european export experience expenditures expected expect expansion expanding expanded\n"
     ]
    }
   ],
   "source": [
    "no_top_words = 10\n",
    "display_topics(nmf, tfidf_feature_names, no_top_words)"
   ]
  },
  {
   "cell_type": "code",
   "execution_count": 10,
   "metadata": {},
   "outputs": [
    {
     "name": "stdout",
     "output_type": "stream",
     "text": [
      "Topic 0:\n",
      "federal increase health legislation tax economy act administration education better\n",
      "Topic 1:\n",
      "americans federal tax health tonight economy just ve jobs programs\n",
      "Topic 2:\n",
      "americans federal men programs defense let union soviet shall know\n",
      "Topic 3:\n",
      "federal tonight americans let budget jobs tax programs increase energy\n",
      "Topic 4:\n",
      "let federal tax budget americans tonight energy jobs programs percent\n",
      "Topic 5:\n",
      "federal budget act administration health tax know jobs economy programs\n",
      "Topic 6:\n",
      "let soviet just americans act health jobs right federal energy\n",
      "Topic 7:\n",
      "dollars federal billion legislation economy programs tax act fiscal administration\n",
      "Topic 8:\n",
      "americans federal administration legislation programs tax reform energy ve support\n",
      "Topic 9:\n",
      "federal administration shall defense men economy international health military rights\n",
      "Topic 10:\n",
      "dollars fiscal expenditures federal billion 1947 legislation estimated 1945 administration\n",
      "Topic 11:\n",
      "federal budget let programs tax care percent health americans energy\n",
      "Topic 12:\n",
      "know support programs health federal care let economy defense income\n",
      "Topic 13:\n",
      "federal legislation administration programs policy energy budget health development labor\n",
      "Topic 14:\n",
      "know americans health federal economy just let high act families\n",
      "Topic 15:\n",
      "federal administration legislation programs development policy energy health act defense\n",
      "Topic 16:\n",
      "americans support economy let know health children right administration energy\n",
      "Topic 17:\n",
      "federal health americans tonight let support ask better economy budget\n",
      "Topic 18:\n",
      "americans let tonight know tax ve jobs children just health\n",
      "Topic 19:\n",
      "federal billion programs americans let strength military development efforts forces\n"
     ]
    }
   ],
   "source": [
    "display_topics(lda, tf_feature_names, no_top_words)"
   ]
  }
 ],
 "metadata": {
  "kernelspec": {
   "display_name": "Python [default]",
   "language": "python",
   "name": "python3"
  },
  "language_info": {
   "codemirror_mode": {
    "name": "ipython",
    "version": 3
   },
   "file_extension": ".py",
   "mimetype": "text/x-python",
   "name": "python",
   "nbconvert_exporter": "python",
   "pygments_lexer": "ipython3",
   "version": "3.5.2"
  }
 },
 "nbformat": 4,
 "nbformat_minor": 2
}
