{
 "cells": [
  {
   "cell_type": "code",
   "execution_count": 1,
   "metadata": {},
   "outputs": [],
   "source": [
    "import nltk\n",
    "import numpy as np\n",
    "import pandas as pd\n",
    "from nltk.tokenize import sent_tokenize\n",
    "from vaderSentiment.vaderSentiment import SentimentIntensityAnalyzer"
   ]
  },
  {
   "cell_type": "code",
   "execution_count": 2,
   "metadata": {},
   "outputs": [],
   "source": [
    "speeches = pd.read_pickle('data/sotu_content.pkl')"
   ]
  },
  {
   "cell_type": "code",
   "execution_count": 3,
   "metadata": {},
   "outputs": [],
   "source": [
    "speeches['date'] = pd.to_datetime(speeches['date'])"
   ]
  },
  {
   "cell_type": "code",
   "execution_count": 4,
   "metadata": {},
   "outputs": [],
   "source": [
    "speeches = speeches[~speeches.duplicated(subset='date')]"
   ]
  },
  {
   "cell_type": "code",
   "execution_count": 5,
   "metadata": {},
   "outputs": [],
   "source": [
    "def calc_sentiment_scores(df):\n",
    "    '''\n",
    "    Takes a dataframe of speeches and returns vader sentiment scores for each speech\n",
    "    '''\n",
    "    analyser = SentimentIntensityAnalyzer()\n",
    "    compound_score = []\n",
    "    positive_score = []\n",
    "    neutral_score = []\n",
    "    negative_score = []\n",
    "    \n",
    "    for speech in df.speech:\n",
    "        snt_dict = {\n",
    "            'compound':[],\n",
    "            'pos':[],\n",
    "            'neg':[],\n",
    "            'neu':[]\n",
    "        }\n",
    "        for sent in sent_tokenize(speech):\n",
    "            snt = analyser.polarity_scores(sent)\n",
    "            snt_dict['compound'].append(snt['compound'])\n",
    "            snt_dict['pos'].append(snt['pos'])\n",
    "            snt_dict['neg'].append(snt['neg'])\n",
    "            snt_dict['neu'].append(snt['neu'])\n",
    "            \n",
    "        compound_score.append(np.mean(snt_dict['compound']))\n",
    "        positive_score.append(np.mean(snt_dict['pos']))\n",
    "        negative_score.append(np.mean(snt_dict['neg']))\n",
    "        neutral_score.append(np.mean(snt_dict['neu']))\n",
    "            \n",
    "    df['compound'] = pd.Series(compound_score,  index=df.index)\n",
    "    df['positive'] = pd.Series(positive_score,  index=df.index)\n",
    "    df['negative'] = pd.Series(negative_score,  index=df.index)\n",
    "    df['neutral'] = pd.Series(neutral_score,  index=df.index)\n",
    "    \n",
    "    return df"
   ]
  },
  {
   "cell_type": "code",
   "execution_count": 6,
   "metadata": {},
   "outputs": [
    {
     "data": {
      "text/html": [
       "<div>\n",
       "<style scoped>\n",
       "    .dataframe tbody tr th:only-of-type {\n",
       "        vertical-align: middle;\n",
       "    }\n",
       "\n",
       "    .dataframe tbody tr th {\n",
       "        vertical-align: top;\n",
       "    }\n",
       "\n",
       "    .dataframe thead th {\n",
       "        text-align: right;\n",
       "    }\n",
       "</style>\n",
       "<table border=\"1\" class=\"dataframe\">\n",
       "  <thead>\n",
       "    <tr style=\"text-align: right;\">\n",
       "      <th></th>\n",
       "      <th>date</th>\n",
       "      <th>president</th>\n",
       "      <th>speech</th>\n",
       "      <th>compound</th>\n",
       "      <th>positive</th>\n",
       "      <th>negative</th>\n",
       "      <th>neutral</th>\n",
       "    </tr>\n",
       "  </thead>\n",
       "  <tbody>\n",
       "    <tr>\n",
       "      <th>65</th>\n",
       "      <td>1959-01-09</td>\n",
       "      <td>Dwight D. Eisenhower</td>\n",
       "      <td>[Delivered in person before a joint session] M...</td>\n",
       "      <td>0.275041</td>\n",
       "      <td>0.162559</td>\n",
       "      <td>0.056096</td>\n",
       "      <td>0.781341</td>\n",
       "    </tr>\n",
       "    <tr>\n",
       "      <th>66</th>\n",
       "      <td>1958-01-09</td>\n",
       "      <td>Dwight D. Eisenhower</td>\n",
       "      <td>Mr. President, Mr. Speaker, Members of the 85t...</td>\n",
       "      <td>0.230129</td>\n",
       "      <td>0.156285</td>\n",
       "      <td>0.061402</td>\n",
       "      <td>0.782297</td>\n",
       "    </tr>\n",
       "    <tr>\n",
       "      <th>73</th>\n",
       "      <td>1952-01-09</td>\n",
       "      <td>Harry S. Truman</td>\n",
       "      <td>Mr. President, Mr. Speaker, Members of the Con...</td>\n",
       "      <td>0.229575</td>\n",
       "      <td>0.163072</td>\n",
       "      <td>0.071606</td>\n",
       "      <td>0.765329</td>\n",
       "    </tr>\n",
       "    <tr>\n",
       "      <th>59</th>\n",
       "      <td>1964-01-08</td>\n",
       "      <td>Lyndon B. Johnson</td>\n",
       "      <td>[ As delivered in person before a joint sessio...</td>\n",
       "      <td>0.182663</td>\n",
       "      <td>0.130964</td>\n",
       "      <td>0.062645</td>\n",
       "      <td>0.806399</td>\n",
       "    </tr>\n",
       "    <tr>\n",
       "      <th>74</th>\n",
       "      <td>1951-01-08</td>\n",
       "      <td>Harry S. Truman</td>\n",
       "      <td>Mr. President, Mr. Speaker, Members of the Con...</td>\n",
       "      <td>0.231713</td>\n",
       "      <td>0.173522</td>\n",
       "      <td>0.067513</td>\n",
       "      <td>0.758982</td>\n",
       "    </tr>\n",
       "  </tbody>\n",
       "</table>\n",
       "</div>"
      ],
      "text/plain": [
       "         date             president  \\\n",
       "65 1959-01-09  Dwight D. Eisenhower   \n",
       "66 1958-01-09  Dwight D. Eisenhower   \n",
       "73 1952-01-09       Harry S. Truman   \n",
       "59 1964-01-08     Lyndon B. Johnson   \n",
       "74 1951-01-08       Harry S. Truman   \n",
       "\n",
       "                                               speech  compound  positive  \\\n",
       "65  [Delivered in person before a joint session] M...  0.275041  0.162559   \n",
       "66  Mr. President, Mr. Speaker, Members of the 85t...  0.230129  0.156285   \n",
       "73  Mr. President, Mr. Speaker, Members of the Con...  0.229575  0.163072   \n",
       "59  [ As delivered in person before a joint sessio...  0.182663  0.130964   \n",
       "74  Mr. President, Mr. Speaker, Members of the Con...  0.231713  0.173522   \n",
       "\n",
       "    negative   neutral  \n",
       "65  0.056096  0.781341  \n",
       "66  0.061402  0.782297  \n",
       "73  0.071606  0.765329  \n",
       "59  0.062645  0.806399  \n",
       "74  0.067513  0.758982  "
      ]
     },
     "execution_count": 6,
     "metadata": {},
     "output_type": "execute_result"
    }
   ],
   "source": [
    "df = calc_sentiment_scores(speeches)\n",
    "df.head()"
   ]
  },
  {
   "cell_type": "code",
   "execution_count": 7,
   "metadata": {},
   "outputs": [],
   "source": [
    "df.to_csv('data/sotu_scores.csv', index=False)"
   ]
  }
 ],
 "metadata": {
  "kernelspec": {
   "display_name": "Python [default]",
   "language": "python",
   "name": "python3"
  },
  "language_info": {
   "codemirror_mode": {
    "name": "ipython",
    "version": 3
   },
   "file_extension": ".py",
   "mimetype": "text/x-python",
   "name": "python",
   "nbconvert_exporter": "python",
   "pygments_lexer": "ipython3",
   "version": "3.5.2"
  }
 },
 "nbformat": 4,
 "nbformat_minor": 2
}
