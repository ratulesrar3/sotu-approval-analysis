{
 "cells": [
  {
   "cell_type": "code",
   "execution_count": 1,
   "metadata": {},
   "outputs": [],
   "source": [
    "import numpy as np\n",
    "import pandas as pd\n",
    "import matplotlib.pyplot as plt\n",
    "import seaborn as sns\n",
    "%matplotlib inline"
   ]
  },
  {
   "cell_type": "code",
   "execution_count": 2,
   "metadata": {},
   "outputs": [],
   "source": [
    "xls_file = pd.ExcelFile('data/approval_ratings.xls')"
   ]
  },
  {
   "cell_type": "code",
   "execution_count": 3,
   "metadata": {},
   "outputs": [
    {
     "data": {
      "text/plain": [
       "['Donald J. Trump',\n",
       " 'Barack Obama',\n",
       " 'George W. Bush',\n",
       " 'William J. Clinton',\n",
       " 'George Bush',\n",
       " 'Ronald Reagan',\n",
       " 'Jimmy Carter',\n",
       " 'Gerald R. Ford',\n",
       " 'Richard Nixon',\n",
       " 'Lyndon B. Johnson',\n",
       " 'John F. Kennedy',\n",
       " 'Dwight D. Eisenhower',\n",
       " 'Harry S. Truman',\n",
       " 'Franklin D. Roosevelt']"
      ]
     },
     "execution_count": 3,
     "metadata": {},
     "output_type": "execute_result"
    }
   ],
   "source": [
    "xls_file.sheet_names"
   ]
  },
  {
   "cell_type": "code",
   "execution_count": 4,
   "metadata": {},
   "outputs": [],
   "source": [
    "sheet_list = []\n",
    "for sheet in xls_file.sheet_names:\n",
    "    df = xls_file.parse(sheet)\n",
    "    df['Name'] = pd.Series([sheet]*len(df), index=df.index)\n",
    "    sheet_list.append(df)"
   ]
  },
  {
   "cell_type": "code",
   "execution_count": 5,
   "metadata": {},
   "outputs": [],
   "source": [
    "combined_df = pd.concat([sheet for sheet in sheet_list], ignore_index=True)"
   ]
  },
  {
   "cell_type": "code",
   "execution_count": 6,
   "metadata": {},
   "outputs": [
    {
     "data": {
      "text/html": [
       "<div>\n",
       "<style scoped>\n",
       "    .dataframe tbody tr th:only-of-type {\n",
       "        vertical-align: middle;\n",
       "    }\n",
       "\n",
       "    .dataframe tbody tr th {\n",
       "        vertical-align: top;\n",
       "    }\n",
       "\n",
       "    .dataframe thead th {\n",
       "        text-align: right;\n",
       "    }\n",
       "</style>\n",
       "<table border=\"1\" class=\"dataframe\">\n",
       "  <thead>\n",
       "    <tr style=\"text-align: right;\">\n",
       "      <th></th>\n",
       "      <th>Organization</th>\n",
       "      <th>Polling Start</th>\n",
       "      <th>Polling End</th>\n",
       "      <th>Approve</th>\n",
       "      <th>Disapprove</th>\n",
       "      <th>No Opinion</th>\n",
       "      <th>Sample Size</th>\n",
       "      <th>Name</th>\n",
       "    </tr>\n",
       "  </thead>\n",
       "  <tbody>\n",
       "    <tr>\n",
       "      <th>0</th>\n",
       "      <td>Quinnipiac University</td>\n",
       "      <td>2017-01-20</td>\n",
       "      <td>2017-01-25</td>\n",
       "      <td>36</td>\n",
       "      <td>44</td>\n",
       "      <td>19</td>\n",
       "      <td>1190</td>\n",
       "      <td>Donald J. Trump</td>\n",
       "    </tr>\n",
       "    <tr>\n",
       "      <th>1</th>\n",
       "      <td>Gallup Organization</td>\n",
       "      <td>2017-01-21</td>\n",
       "      <td>2017-01-23</td>\n",
       "      <td>45</td>\n",
       "      <td>46</td>\n",
       "      <td>9</td>\n",
       "      <td>1500</td>\n",
       "      <td>Donald J. Trump</td>\n",
       "    </tr>\n",
       "    <tr>\n",
       "      <th>2</th>\n",
       "      <td>Gallup Organization</td>\n",
       "      <td>2017-01-24</td>\n",
       "      <td>2017-01-26</td>\n",
       "      <td>45</td>\n",
       "      <td>48</td>\n",
       "      <td>7</td>\n",
       "      <td>1500</td>\n",
       "      <td>Donald J. Trump</td>\n",
       "    </tr>\n",
       "    <tr>\n",
       "      <th>3</th>\n",
       "      <td>TIPP / IBD</td>\n",
       "      <td>2017-01-27</td>\n",
       "      <td>2017-02-02</td>\n",
       "      <td>42</td>\n",
       "      <td>48</td>\n",
       "      <td>9</td>\n",
       "      <td>885</td>\n",
       "      <td>Donald J. Trump</td>\n",
       "    </tr>\n",
       "    <tr>\n",
       "      <th>4</th>\n",
       "      <td>Gallup Organization</td>\n",
       "      <td>2017-01-27</td>\n",
       "      <td>2017-01-29</td>\n",
       "      <td>43</td>\n",
       "      <td>50</td>\n",
       "      <td>7</td>\n",
       "      <td>1500</td>\n",
       "      <td>Donald J. Trump</td>\n",
       "    </tr>\n",
       "  </tbody>\n",
       "</table>\n",
       "</div>"
      ],
      "text/plain": [
       "            Organization Polling Start Polling End  Approve  Disapprove  \\\n",
       "0  Quinnipiac University    2017-01-20  2017-01-25       36          44   \n",
       "1    Gallup Organization    2017-01-21  2017-01-23       45          46   \n",
       "2    Gallup Organization    2017-01-24  2017-01-26       45          48   \n",
       "3             TIPP / IBD    2017-01-27  2017-02-02       42          48   \n",
       "4    Gallup Organization    2017-01-27  2017-01-29       43          50   \n",
       "\n",
       "  No Opinion Sample Size             Name  \n",
       "0         19        1190  Donald J. Trump  \n",
       "1          9        1500  Donald J. Trump  \n",
       "2          7        1500  Donald J. Trump  \n",
       "3          9         885  Donald J. Trump  \n",
       "4          7        1500  Donald J. Trump  "
      ]
     },
     "execution_count": 6,
     "metadata": {},
     "output_type": "execute_result"
    }
   ],
   "source": [
    "combined_df.head()"
   ]
  },
  {
   "cell_type": "code",
   "execution_count": 7,
   "metadata": {},
   "outputs": [],
   "source": [
    "combined_df['Polling Start'] = pd.to_datetime(combined_df['Polling Start'])\n",
    "combined_df['Polling End'] = pd.to_datetime(combined_df['Polling End'])"
   ]
  },
  {
   "cell_type": "code",
   "execution_count": 8,
   "metadata": {},
   "outputs": [],
   "source": [
    "combined_df.to_csv('data/all_approval.csv', index=False)"
   ]
  },
  {
   "cell_type": "code",
   "execution_count": 9,
   "metadata": {},
   "outputs": [
    {
     "name": "stderr",
     "output_type": "stream",
     "text": [
      "/Users/ratulesrar/anaconda3/lib/python3.5/site-packages/pandas/plotting/_core.py:1716: UserWarning: Pandas doesn't allow columns to be created via a new attribute name - see https://pandas.pydata.org/pandas-docs/stable/indexing.html#attribute-access\n",
      "  series.name = label\n"
     ]
    },
    {
     "data": {
      "text/plain": [
       "<matplotlib.axes._subplots.AxesSubplot at 0x10f2c6940>"
      ]
     },
     "execution_count": 9,
     "metadata": {},
     "output_type": "execute_result"
    },
    {
     "data": {
      "image/png": "[encoded data removed]",
      "text/plain": [
       "<matplotlib.figure.Figure at 0x104918278>"
      ]
     },
     "metadata": {},
     "output_type": "display_data"
    }
   ],
   "source": [
    "combined_df.plot('Polling End', ['Approve', 'Disapprove'])"
   ]
  }
 ],
 "metadata": {
  "kernelspec": {
   "display_name": "Python [default]",
   "language": "python",
   "name": "python3"
  },
  "language_info": {
   "codemirror_mode": {
    "name": "ipython",
    "version": 3
   },
   "file_extension": ".py",
   "mimetype": "text/x-python",
   "name": "python",
   "nbconvert_exporter": "python",
   "pygments_lexer": "ipython3",
   "version": "3.5.2"
  }
 },
 "nbformat": 4,
 "nbformat_minor": 2
}
