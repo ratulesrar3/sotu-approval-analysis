{
 "cells": [
  {
   "cell_type": "code",
   "execution_count": 1,
   "metadata": {},
   "outputs": [],
   "source": [
    "import numpy as np\n",
    "import pandas as pd"
   ]
  },
  {
   "cell_type": "code",
   "execution_count": 2,
   "metadata": {},
   "outputs": [],
   "source": [
    "xls_file = pd.ExcelFile('data/approval_ratings.xls')"
   ]
  },
  {
   "cell_type": "code",
   "execution_count": 3,
   "metadata": {},
   "outputs": [
    {
     "data": {
      "text/plain": [
       "['Donald Trump',\n",
       " 'Barack Obama',\n",
       " 'George W. Bush',\n",
       " 'Bill Clinton',\n",
       " 'George H.W. Bush',\n",
       " 'Ronald Reagan',\n",
       " 'Jimmy Carter',\n",
       " 'Gerald Ford',\n",
       " 'Richard Nixon',\n",
       " 'Lyndon B. Johnson',\n",
       " 'John F. Kennedy',\n",
       " 'Dwight D. Eisenhower',\n",
       " 'Harry S. Truman',\n",
       " 'Franklin D. Roosevelt']"
      ]
     },
     "execution_count": 3,
     "metadata": {},
     "output_type": "execute_result"
    }
   ],
   "source": [
    "xls_file.sheet_names"
   ]
  },
  {
   "cell_type": "code",
   "execution_count": 4,
   "metadata": {},
   "outputs": [],
   "source": [
    "sheet_list = []\n",
    "for sheet in xls_file.sheet_names:\n",
    "    df = xls_file.parse(sheet)\n",
    "    df['Name'] = pd.Series([sheet]*len(df), index=df.index)\n",
    "    sheet_list.append(df)"
   ]
  },
  {
   "cell_type": "code",
   "execution_count": 5,
   "metadata": {},
   "outputs": [],
   "source": [
    "combined_df = pd.concat([sheet for sheet in sheet_list], ignore_index=True)"
   ]
  },
  {
   "cell_type": "code",
   "execution_count": 6,
   "metadata": {},
   "outputs": [
    {
     "data": {
      "text/html": [
       "<div>\n",
       "<style scoped>\n",
       "    .dataframe tbody tr th:only-of-type {\n",
       "        vertical-align: middle;\n",
       "    }\n",
       "\n",
       "    .dataframe tbody tr th {\n",
       "        vertical-align: top;\n",
       "    }\n",
       "\n",
       "    .dataframe thead th {\n",
       "        text-align: right;\n",
       "    }\n",
       "</style>\n",
       "<table border=\"1\" class=\"dataframe\">\n",
       "  <thead>\n",
       "    <tr style=\"text-align: right;\">\n",
       "      <th></th>\n",
       "      <th>Organization</th>\n",
       "      <th>Polling Start</th>\n",
       "      <th>Polling End</th>\n",
       "      <th>Approve</th>\n",
       "      <th>Disapprove</th>\n",
       "      <th>No Opinion</th>\n",
       "      <th>Sample Size</th>\n",
       "      <th>Name</th>\n",
       "    </tr>\n",
       "  </thead>\n",
       "  <tbody>\n",
       "    <tr>\n",
       "      <th>0</th>\n",
       "      <td>Quinnipiac University</td>\n",
       "      <td>2017-01-20</td>\n",
       "      <td>2017-01-25</td>\n",
       "      <td>36</td>\n",
       "      <td>44</td>\n",
       "      <td>19</td>\n",
       "      <td>1190</td>\n",
       "      <td>Donald Trump</td>\n",
       "    </tr>\n",
       "    <tr>\n",
       "      <th>1</th>\n",
       "      <td>Gallup Organization</td>\n",
       "      <td>2017-01-21</td>\n",
       "      <td>2017-01-23</td>\n",
       "      <td>45</td>\n",
       "      <td>46</td>\n",
       "      <td>9</td>\n",
       "      <td>1500</td>\n",
       "      <td>Donald Trump</td>\n",
       "    </tr>\n",
       "    <tr>\n",
       "      <th>2</th>\n",
       "      <td>Gallup Organization</td>\n",
       "      <td>2017-01-24</td>\n",
       "      <td>2017-01-26</td>\n",
       "      <td>45</td>\n",
       "      <td>48</td>\n",
       "      <td>7</td>\n",
       "      <td>1500</td>\n",
       "      <td>Donald Trump</td>\n",
       "    </tr>\n",
       "    <tr>\n",
       "      <th>3</th>\n",
       "      <td>TIPP / IBD</td>\n",
       "      <td>2017-01-27</td>\n",
       "      <td>2017-02-02</td>\n",
       "      <td>42</td>\n",
       "      <td>48</td>\n",
       "      <td>9</td>\n",
       "      <td>885</td>\n",
       "      <td>Donald Trump</td>\n",
       "    </tr>\n",
       "    <tr>\n",
       "      <th>4</th>\n",
       "      <td>Gallup Organization</td>\n",
       "      <td>2017-01-27</td>\n",
       "      <td>2017-01-29</td>\n",
       "      <td>43</td>\n",
       "      <td>50</td>\n",
       "      <td>7</td>\n",
       "      <td>1500</td>\n",
       "      <td>Donald Trump</td>\n",
       "    </tr>\n",
       "  </tbody>\n",
       "</table>\n",
       "</div>"
      ],
      "text/plain": [
       "            Organization Polling Start Polling End  Approve  Disapprove  \\\n",
       "0  Quinnipiac University    2017-01-20  2017-01-25       36          44   \n",
       "1    Gallup Organization    2017-01-21  2017-01-23       45          46   \n",
       "2    Gallup Organization    2017-01-24  2017-01-26       45          48   \n",
       "3             TIPP / IBD    2017-01-27  2017-02-02       42          48   \n",
       "4    Gallup Organization    2017-01-27  2017-01-29       43          50   \n",
       "\n",
       "  No Opinion Sample Size          Name  \n",
       "0         19        1190  Donald Trump  \n",
       "1          9        1500  Donald Trump  \n",
       "2          7        1500  Donald Trump  \n",
       "3          9         885  Donald Trump  \n",
       "4          7        1500  Donald Trump  "
      ]
     },
     "execution_count": 6,
     "metadata": {},
     "output_type": "execute_result"
    }
   ],
   "source": [
    "combined_df.head()"
   ]
  },
  {
   "cell_type": "code",
   "execution_count": 7,
   "metadata": {},
   "outputs": [],
   "source": [
    "combined_df['Polling Start'] = pd.to_datetime(combined_df['Polling Start'])\n",
    "combined_df['Polling End'] = pd.to_datetime(combined_df['Polling End'])"
   ]
  }
 ],
 "metadata": {
  "kernelspec": {
   "display_name": "Python [default]",
   "language": "python",
   "name": "python3"
  },
  "language_info": {
   "codemirror_mode": {
    "name": "ipython",
    "version": 3
   },
   "file_extension": ".py",
   "mimetype": "text/x-python",
   "name": "python",
   "nbconvert_exporter": "python",
   "pygments_lexer": "ipython3",
   "version": "3.5.2"
  }
 },
 "nbformat": 4,
 "nbformat_minor": 2
}
